{
 "cells": [
  {
   "cell_type": "code",
   "execution_count": 4,
   "id": "635448f2-0df9-4bdb-bf34-249a2425d1e4",
   "metadata": {},
   "outputs": [],
   "source": [
    "from pymilvus import connections, db\n",
    "\n",
    "conn = connections.connect(host=\"standalone\", port=19530)\n",
    "\n"
   ]
  },
  {
   "cell_type": "code",
   "execution_count": 5,
   "id": "ffb6b752-104b-414b-a9b4-275fba4e0486",
   "metadata": {},
   "outputs": [],
   "source": [
    "database = db.create_database(\"dungeons\")\n"
   ]
  },
  {
   "cell_type": "code",
   "execution_count": 6,
   "id": "62d9d3d3-06bb-4215-9db8-f6b190d8f446",
   "metadata": {},
   "outputs": [],
   "source": [
    "db.using_database(\"dungeons\")"
   ]
  },
  {
   "cell_type": "code",
   "execution_count": 7,
   "id": "859f0511-fda2-4b2a-a490-56464a0a0a52",
   "metadata": {},
   "outputs": [
    {
     "data": {
      "text/plain": [
       "['default', 'dungeons']"
      ]
     },
     "execution_count": 7,
     "metadata": {},
     "output_type": "execute_result"
    }
   ],
   "source": [
    "db.list_database()"
   ]
  },
  {
   "cell_type": "code",
   "execution_count": null,
   "id": "a9254e00-c4ba-4d7b-a898-3cd063966fb7",
   "metadata": {},
   "outputs": [],
   "source": [
    "from pymilvus import MilvusClient, DataType\n",
    "\n",
    "# 1. Set up a Milvus client\n",
    "client = MilvusClient(\n",
    "    uri=\"http://standalone:19530\",\n",
    "    \n",
    ")"
   ]
  }
 ],
 "metadata": {
  "kernelspec": {
   "display_name": "Python 3 (ipykernel)",
   "language": "python",
   "name": "python3"
  },
  "language_info": {
   "codemirror_mode": {
    "name": "ipython",
    "version": 3
   },
   "file_extension": ".py",
   "mimetype": "text/x-python",
   "name": "python",
   "nbconvert_exporter": "python",
   "pygments_lexer": "ipython3",
   "version": "3.10.12"
  }
 },
 "nbformat": 4,
 "nbformat_minor": 5
}
