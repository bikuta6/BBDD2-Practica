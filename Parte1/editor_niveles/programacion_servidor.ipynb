{
 "cells": [
  {
   "attachments": {},
   "cell_type": "markdown",
   "metadata": {},
   "source": [
    "# Instalar dependencias"
   ]
  },
  {
   "cell_type": "code",
   "execution_count": null,
   "metadata": {},
   "outputs": [],
   "source": [
    "!pip install neo4j\n",
    "!pip install networkx\n",
    "!pip install win10toast\n",
    "!pip install graphdatascience[networkx]\n",
    "!pip install ipywidgets"
   ]
  },
  {
   "cell_type": "markdown",
   "metadata": {},
   "source": [
    "# Sincrono vs Asincrono\n",
    "Repetiremos la misma query de manera sincrona y asincrona"
   ]
  },
  {
   "attachments": {},
   "cell_type": "markdown",
   "metadata": {},
   "source": [
    "## Ejecutar una query no-concurrente"
   ]
  },
  {
   "cell_type": "code",
   "execution_count": null,
   "metadata": {},
   "outputs": [],
   "source": [
    "from neo4j import GraphDatabase\n",
    "import pandas as pd\n",
    "\n",
    "query = \"\"\"\n",
    "MATCH (e1:Estacion)-[:TRAMO {linea:$line}]->(:Estacion) WITH e1 as l8\n",
    "OPTIONAL MATCH (l8)-[t:TRAMO]->(:Estacion)\n",
    "WHERE t.linea <> $line \n",
    "RETURN l8.nombre as estacion, collect(distinct t.linea) as transbordo\n",
    "\"\"\"\n",
    "\n",
    "with GraphDatabase.driver('bolt://localhost:7687', auth=(\"neo4j\", \"BDII2023\")) as driver:\n",
    "        with driver.session() as session:\n",
    "                results = session.run(query, line=\"8\")\n",
    "                display(pd.DataFrame(results, columns=results.keys()))\n"
   ]
  },
  {
   "attachments": {},
   "cell_type": "markdown",
   "metadata": {},
   "source": [
    "## Ejecutar una query concurrente con asyncio\n",
    "Ejecutaremos una query en version no bloqueante, sinembargo, haremos que jupyter espere a que termine de realizar la query en la base de datos para obtener los resultados. Se incluye un delay para que el efecto se note mas. Notese que en este caso la celda tarda en ejecutarse 5 segundos y nos muestra los resultados de la recomendacion."
   ]
  },
  {
   "cell_type": "code",
   "execution_count": null,
   "metadata": {},
   "outputs": [],
   "source": [
    "import asyncio\n",
    "from neo4j import AsyncGraphDatabase\n",
    "\n",
    "async def do_recommendation(line):\n",
    "\n",
    "    query = \"\"\"\n",
    "    MATCH (e1:Estacion)-[:TRAMO {linea:$line}]->(:Estacion) WITH e1 as l8\n",
    "    OPTIONAL MATCH (l8)-[t:TRAMO]->(:Estacion)\n",
    "    WHERE t.linea <> $line \n",
    "    RETURN l8.nombre as estacion, collect(distinct t.linea) as transbordo\n",
    "    \"\"\"\n",
    "    \n",
    "    async with AsyncGraphDatabase.driver('bolt://localhost:7687', auth=(\"neo4j\", \"BDII2023\")) as driver:\n",
    "        async with driver.session() as session:\n",
    "            results = await session.run(query, line=line)\n",
    "            data = await results.data()\n",
    "            await asyncio.sleep(5)\n",
    "            return pd.DataFrame(data, columns=data[0].keys())\n",
    "\n",
    "task = asyncio.create_task(do_recommendation(\"8\"))\n",
    "df = await task\n",
    "display(df)"
   ]
  },
  {
   "attachments": {},
   "cell_type": "markdown",
   "metadata": {},
   "source": [
    "## Ejecutar una query con call_back \n",
    "En vez de esperar a que se termine la tarea se asigna un callback que mandara una notificacion al usuario.\n",
    "Se incluye un delay en la funcion que realiza la query a la base de datos para que se note el cambio. Notese que en este caso la celda tarda en ejecutarse 0 segundos y no muestra la recomendacion. Pasados 5 segundos se le mostrará al usuario una notificacion con los resultados."
   ]
  },
  {
   "cell_type": "code",
   "execution_count": null,
   "metadata": {},
   "outputs": [],
   "source": [
    "import pandas as pd\n",
    "from win10toast import ToastNotifier\n",
    "import asyncio\n",
    "from neo4j import AsyncGraphDatabase\n",
    "\n",
    "async def do_recommendation(line):\n",
    "\n",
    "    query = \"\"\"\n",
    "    MATCH (e1:Estacion)-[:TRAMO {linea:$line}]->(:Estacion) WITH e1 as l8\n",
    "    OPTIONAL MATCH (l8)-[t:TRAMO]->(:Estacion)\n",
    "    WHERE t.linea <> $line \n",
    "    RETURN l8.nombre as estacion, collect(distinct t.linea) as transbordo\n",
    "    \"\"\"\n",
    "    \n",
    "    async with AsyncGraphDatabase.driver('bolt://localhost:7687', auth=(\"neo4j\", \"BDII2023\")) as driver:\n",
    "        async with driver.session() as session:\n",
    "            results = await session.run(query, line=line)\n",
    "            data = await results.data()\n",
    "            await asyncio.sleep(5)\n",
    "            return pd.DataFrame(data, columns=data[0].keys())\n",
    "        \n",
    "def notify(df):\n",
    "    toaster = ToastNotifier()\n",
    "    \n",
    "    # string with dataframe data\n",
    "    df_string = df.to_string()\n",
    "    toaster.show_toast(\"Recommendation\", df_string, duration=20)\n",
    "\n",
    "task = asyncio.create_task(do_recommendation(\"8\"))\n",
    "task.add_done_callback(lambda future: notify(future.result()))\n"
   ]
  },
  {
   "attachments": {},
   "cell_type": "markdown",
   "metadata": {},
   "source": [
    "# Traer grafo a python con networkx\n",
    "En este caso no queremos traer informacion tabular, sino informacion en forma de grafo. Para ellos transformaremos una query que devuelve nodos y aristas en un Objeto de tipo Graph de la libreria NetworkX"
   ]
  },
  {
   "cell_type": "code",
   "execution_count": null,
   "metadata": {},
   "outputs": [],
   "source": [
    "import networkx as nx\n",
    "from neo4j import GraphDatabase\n",
    "\n",
    "def run_query(query, **kwargs):\n",
    "    with GraphDatabase.driver('bolt://localhost:7687', auth=(\"neo4j\", \"BDII2023\")) as driver:\n",
    "        with driver.session() as session:\n",
    "                result = list(session.run(query, **kwargs))\n",
    "                return result\n",
    "\n",
    "query_nodes = \"\"\"\n",
    "MATCH (e:Estacion) WHERE (e)-[:TRAMO {linea:$line}]->()\n",
    "RETURN e.codigo as id, {name: e.nombre, x: e.x, y: e.y} as p\n",
    "\"\"\"\n",
    "\n",
    "query_edges = \"\"\"\n",
    "MATCH (e1:Estacion)-[t:TRAMO {linea:$line}]->(e2:Estacion) \n",
    "RETURN e1.codigo as source, e2.codigo as target, {length: t.longitud} as w\n",
    "\"\"\"\n",
    "\n",
    "g = nx.Graph()\n",
    "g.add_nodes_from([(r['id'], r['p']) for r in run_query(query_nodes, line=\"8\")])\n",
    "g.add_edges_from([(r['source'], r['target'], r['w']) for r in run_query(query_edges, line=\"8\")])\n",
    "\n",
    "print(f\"Number of nodes: {g.number_of_nodes()}\")\n",
    "print(f\"Node attributes: {list(list(g.nodes(data=True))[0][1].keys())}\")\n",
    "print(f\"Number of edges: {g.number_of_edges()}\")\n",
    "print(f\"Edge attributes: {list(list(g.edges(data=True))[0][2].keys())}\")\n",
    "print(f\"Number of connected components: {nx.number_connected_components(g)}\")"
   ]
  }
 ],
 "metadata": {
  "kernelspec": {
   "display_name": "Python 3",
   "language": "python",
   "name": "python3"
  },
  "language_info": {
   "codemirror_mode": {
    "name": "ipython",
    "version": 3
   },
   "file_extension": ".py",
   "mimetype": "text/x-python",
   "name": "python",
   "nbconvert_exporter": "python",
   "pygments_lexer": "ipython3",
   "version": "3.10.11"
  },
  "orig_nbformat": 4
 },
 "nbformat": 4,
 "nbformat_minor": 2
}
