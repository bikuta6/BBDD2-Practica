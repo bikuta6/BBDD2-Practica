{
 "cells": [
  {
   "cell_type": "markdown",
   "metadata": {},
   "source": [
    "## Queries"
   ]
  },
  {
   "cell_type": "markdown",
   "metadata": {},
   "source": [
    "### 9."
   ]
  },
  {
   "cell_type": "code",
   "execution_count": 4,
   "metadata": {},
   "outputs": [
    {
     "data": {
      "text/html": [
       "<div>\n",
       "<style scoped>\n",
       "    .dataframe tbody tr th:only-of-type {\n",
       "        vertical-align: middle;\n",
       "    }\n",
       "\n",
       "    .dataframe tbody tr th {\n",
       "        vertical-align: top;\n",
       "    }\n",
       "\n",
       "    .dataframe thead th {\n",
       "        text-align: right;\n",
       "    }\n",
       "</style>\n",
       "<table border=\"1\" class=\"dataframe\">\n",
       "  <thead>\n",
       "    <tr style=\"text-align: right;\">\n",
       "      <th></th>\n",
       "      <th>gold</th>\n",
       "    </tr>\n",
       "  </thead>\n",
       "  <tbody>\n",
       "    <tr>\n",
       "      <th>0</th>\n",
       "      <td>1227.0</td>\n",
       "    </tr>\n",
       "  </tbody>\n",
       "</table>\n",
       "</div>"
      ],
      "text/plain": [
       "     gold\n",
       "0  1227.0"
      ]
     },
     "execution_count": 4,
     "metadata": {},
     "output_type": "execute_result"
    }
   ],
   "source": [
    "from neo4j import GraphDatabase\n",
    "import pandas as pd\n",
    "\n",
    "def get_dungeon_gold(dungeon_name):\n",
    "    uri = \"bolt://localhost:7687\"\n",
    "    driver = GraphDatabase.driver(uri,  auth=(\"neo4j\", \"BDII2023\"))\n",
    "    with driver.session() as session:\n",
    "        query = '''\n",
    "        MATCH (:Area)-[i:IS_CONNECTED]->(startRoom:Room)\n",
    "        MATCH (:Area)<-[i2:IS_CONNECTED]-(:Room)\n",
    "        WHERE i.dungeon_name = $dungeon_name AND i2.dungeon_name = $dungeon_name\n",
    "        CALL apoc.path.subgraphNodes(startRoom, {\n",
    "            relationshipFilter: \"IS_CONNECTED\",\n",
    "            labelFilter: \"Room\"\n",
    "        }) YIELD node\n",
    "        MATCH (node)-[:CONTAINS]->(l:Loot)\n",
    "        RETURN sum(l.gold) as gold\n",
    "\n",
    "        '''\n",
    "        result = session.run(query, dungeon_name=dungeon_name)\n",
    "        data = pd.DataFrame([r.values() for r in result], columns=result.keys())\n",
    "        \n",
    "    return data\n",
    "\n",
    "get_dungeon_gold('Fenglass, Sepulcher of the Terrible Emperors')"
   ]
  },
  {
   "cell_type": "markdown",
   "metadata": {},
   "source": [
    "### 10."
   ]
  },
  {
   "cell_type": "code",
   "execution_count": 5,
   "metadata": {},
   "outputs": [
    {
     "data": {
      "text/html": [
       "<div>\n",
       "<style scoped>\n",
       "    .dataframe tbody tr th:only-of-type {\n",
       "        vertical-align: middle;\n",
       "    }\n",
       "\n",
       "    .dataframe tbody tr th {\n",
       "        vertical-align: top;\n",
       "    }\n",
       "\n",
       "    .dataframe thead th {\n",
       "        text-align: right;\n",
       "    }\n",
       "</style>\n",
       "<table border=\"1\" class=\"dataframe\">\n",
       "  <thead>\n",
       "    <tr style=\"text-align: right;\">\n",
       "      <th></th>\n",
       "      <th>average_level</th>\n",
       "    </tr>\n",
       "  </thead>\n",
       "  <tbody>\n",
       "    <tr>\n",
       "      <th>0</th>\n",
       "      <td>8.366972</td>\n",
       "    </tr>\n",
       "  </tbody>\n",
       "</table>\n",
       "</div>"
      ],
      "text/plain": [
       "   average_level\n",
       "0       8.366972"
      ]
     },
     "execution_count": 5,
     "metadata": {},
     "output_type": "execute_result"
    }
   ],
   "source": [
    "def get_mean_monster_lvl(dungeon_name):\n",
    "    uri = \"bolt://localhost:7687\"\n",
    "    driver = GraphDatabase.driver(uri,  auth=(\"neo4j\", \"BDII2023\"))\n",
    "    with driver.session() as session:\n",
    "        query = '''\n",
    "        MATCH (:Area)-[i:IS_CONNECTED]->(startRoom:Room)\n",
    "        MATCH (:Area)<-[i2:IS_CONNECTED]-(:Room)\n",
    "        WHERE i.dungeon_name = $dungeon_name AND i2.dungeon_name = $dungeon_name\n",
    "        CALL apoc.path.subgraphNodes(startRoom, {\n",
    "            relationshipFilter: \"IS_CONNECTED\",\n",
    "            labelFilter: \"Room\"\n",
    "        }) YIELD node\n",
    "        MATCH (node)-[:CONTAINS]->(m:Monster)\n",
    "        RETURN avg(m.level) as average_level\n",
    "\n",
    "        '''\n",
    "        result = session.run(query, dungeon_name=dungeon_name)\n",
    "        data = pd.DataFrame([r.values() for r in result], columns=result.keys())\n",
    "        \n",
    "    return data\n",
    "\n",
    "get_mean_monster_lvl('Fenglass, Sepulcher of the Terrible Emperors')"
   ]
  },
  {
   "cell_type": "markdown",
   "metadata": {},
   "source": [
    "### 11."
   ]
  },
  {
   "cell_type": "code",
   "execution_count": 6,
   "metadata": {},
   "outputs": [
    {
     "data": {
      "text/plain": [
       "4.31858407079646"
      ]
     },
     "execution_count": 6,
     "metadata": {},
     "output_type": "execute_result"
    }
   ],
   "source": [
    "def get_mean_relationships_in_dungeon(dungeon_name):\n",
    "    uri = \"bolt://localhost:7687\"\n",
    "    driver = GraphDatabase.driver(uri,  auth=(\"neo4j\", \"BDII2023\"))\n",
    "    with driver.session() as session:\n",
    "        query = '''\n",
    "        MATCH (:Area)-[i:IS_CONNECTED]->(startRoom:Room)\n",
    "        MATCH (:Area)<-[i2:IS_CONNECTED]-(:Room)\n",
    "        WHERE i.dungeon_name = $dungeon_name AND i2.dungeon_name = $dungeon_name\n",
    "        CALL apoc.path.subgraphNodes(startRoom, {\n",
    "            relationshipFilter: \"IS_CONNECTED\",\n",
    "            labelFilter: \"Room\"\n",
    "        }) YIELD node\n",
    "        MATCH (node)-[r:IS_CONNECTED]-(:Room)\n",
    "        RETURN node.room_id as id , count(r) as number_of_relationships\n",
    "        '''\n",
    "        result = session.run(query, dungeon_name=dungeon_name)\n",
    "        data = pd.DataFrame([r.values() for r in result], columns=result.keys())\n",
    "        avg = data['number_of_relationships'].mean()\n",
    "        # make a groupby to count the number of relationships and get the mean\n",
    "\n",
    "        \n",
    "    return avg\n",
    "\n",
    "get_mean_relationships_in_dungeon('Fenglass, Sepulcher of the Terrible Emperors')"
   ]
  },
  {
   "cell_type": "markdown",
   "metadata": {},
   "source": [
    "### 12."
   ]
  },
  {
   "cell_type": "code",
   "execution_count": 7,
   "metadata": {},
   "outputs": [
    {
     "data": {
      "text/plain": [
       "monster_name             fire giant\n",
       "max_level                        50\n",
       "room_id                         289\n",
       "room_name       magnificent cellar \n",
       "Name: 24, dtype: object"
      ]
     },
     "execution_count": 7,
     "metadata": {},
     "output_type": "execute_result"
    }
   ],
   "source": [
    "def get_max_monster_lvl(dungeon_name):\n",
    "    uri = \"bolt://localhost:7687\"\n",
    "    driver = GraphDatabase.driver(uri,  auth=(\"neo4j\", \"BDII2023\"))\n",
    "    with driver.session() as session:\n",
    "        query = '''\n",
    "        MATCH (:Area)-[i:IS_CONNECTED]->(startRoom:Room)\n",
    "        MATCH (:Area)<-[i2:IS_CONNECTED]-(:Room)\n",
    "        WHERE i.dungeon_name = $dungeon_name AND i2.dungeon_name = $dungeon_name\n",
    "        CALL apoc.path.subgraphNodes(startRoom, {\n",
    "            relationshipFilter: \"IS_CONNECTED\",\n",
    "            labelFilter: \"Room\"\n",
    "        }) YIELD node\n",
    "        MATCH (node)-[:CONTAINS]->(m:Monster)\n",
    "        RETURN m.name as monster_name, max(m.level) as max_level, node.room_id as room_id, node.room_name as room_name\n",
    "\n",
    "        '''\n",
    "        result = session.run(query, dungeon_name=dungeon_name)\n",
    "        data = pd.DataFrame([r.values() for r in result], columns=result.keys())\n",
    "        max_level_row = data.loc[data['max_level'].idxmax()]\n",
    "        \n",
    "    return max_level_row\n",
    "\n",
    "get_max_monster_lvl('Fenglass, Sepulcher of the Terrible Emperors')"
   ]
  },
  {
   "cell_type": "markdown",
   "metadata": {},
   "source": [
    "### 13."
   ]
  },
  {
   "cell_type": "code",
   "execution_count": 8,
   "metadata": {},
   "outputs": [
    {
     "data": {
      "text/html": [
       "<div>\n",
       "<style scoped>\n",
       "    .dataframe tbody tr th:only-of-type {\n",
       "        vertical-align: middle;\n",
       "    }\n",
       "\n",
       "    .dataframe tbody tr th {\n",
       "        vertical-align: top;\n",
       "    }\n",
       "\n",
       "    .dataframe thead th {\n",
       "        text-align: right;\n",
       "    }\n",
       "</style>\n",
       "<table border=\"1\" class=\"dataframe\">\n",
       "  <thead>\n",
       "    <tr style=\"text-align: right;\">\n",
       "      <th></th>\n",
       "      <th>room_id</th>\n",
       "      <th>room_name</th>\n",
       "      <th>total_exp</th>\n",
       "    </tr>\n",
       "  </thead>\n",
       "  <tbody>\n",
       "    <tr>\n",
       "      <th>0</th>\n",
       "      <td>289</td>\n",
       "      <td>magnificent cellar</td>\n",
       "      <td>5000</td>\n",
       "    </tr>\n",
       "    <tr>\n",
       "      <th>1</th>\n",
       "      <td>287</td>\n",
       "      <td>chapel</td>\n",
       "      <td>4600</td>\n",
       "    </tr>\n",
       "    <tr>\n",
       "      <th>2</th>\n",
       "      <td>321</td>\n",
       "      <td>fancy vault of sumo wrestlers</td>\n",
       "      <td>4600</td>\n",
       "    </tr>\n",
       "    <tr>\n",
       "      <th>3</th>\n",
       "      <td>320</td>\n",
       "      <td>jolly washroom</td>\n",
       "      <td>4000</td>\n",
       "    </tr>\n",
       "    <tr>\n",
       "      <th>4</th>\n",
       "      <td>477</td>\n",
       "      <td>wine cellar</td>\n",
       "      <td>3600</td>\n",
       "    </tr>\n",
       "  </tbody>\n",
       "</table>\n",
       "</div>"
      ],
      "text/plain": [
       "   room_id                      room_name  total_exp\n",
       "0      289            magnificent cellar        5000\n",
       "1      287                        chapel        4600\n",
       "2      321  fancy vault of sumo wrestlers       4600\n",
       "3      320                jolly washroom        4000\n",
       "4      477                   wine cellar        3600"
      ]
     },
     "execution_count": 8,
     "metadata": {},
     "output_type": "execute_result"
    }
   ],
   "source": [
    "def get_exp_per_room(dungeon_name):\n",
    "    uri = \"bolt://localhost:7687\"\n",
    "    driver = GraphDatabase.driver(uri,  auth=(\"neo4j\", \"BDII2023\"))\n",
    "    with driver.session() as session:\n",
    "        query = '''\n",
    "        MATCH (:Area)-[i:IS_CONNECTED]->(startRoom:Room)\n",
    "        MATCH (:Area)<-[i2:IS_CONNECTED]-(:Room)\n",
    "        WHERE i.dungeon_name = $dungeon_name AND i2.dungeon_name = $dungeon_name\n",
    "        CALL apoc.path.subgraphNodes(startRoom, {\n",
    "            relationshipFilter: \"IS_CONNECTED\",\n",
    "            labelFilter: \"Room\"\n",
    "        }) YIELD node\n",
    "        MATCH (node)-[:CONTAINS]->(m:Monster)\n",
    "        RETURN node.room_id as room_id, node.room_name as room_name, sum(m.exp) as total_exp\n",
    "\n",
    "        '''\n",
    "        result = session.run(query, dungeon_name=dungeon_name)\n",
    "        data = pd.DataFrame([r.values() for r in result], columns=result.keys())\n",
    "        # sort by total_exp\n",
    "        data = data.sort_values(by='total_exp', ascending=False)\n",
    "        data.reset_index(drop=True, inplace=True)\n",
    "        \n",
    "    return data\n",
    "\n",
    "get_exp_per_room('Fenglass, Sepulcher of the Terrible Emperors').head()"
   ]
  },
  {
   "cell_type": "markdown",
   "metadata": {},
   "source": [
    "### 14."
   ]
  },
  {
   "cell_type": "code",
   "execution_count": 9,
   "metadata": {},
   "outputs": [
    {
     "data": {
      "text/plain": [
       "room_id                      289\n",
       "room_name    magnificent cellar \n",
       "Name: 0, dtype: object"
      ]
     },
     "execution_count": 9,
     "metadata": {},
     "output_type": "execute_result"
    }
   ],
   "source": [
    "def most_exp_room(dungeon_name):\n",
    "    room = get_exp_per_room(dungeon_name=dungeon_name).iloc[0][['room_id', 'room_name']]\n",
    "    return room\n",
    "\n",
    "most_exp_room('Fenglass, Sepulcher of the Terrible Emperors')"
   ]
  },
  {
   "cell_type": "markdown",
   "metadata": {},
   "source": [
    "## Visualización"
   ]
  },
  {
   "cell_type": "markdown",
   "metadata": {},
   "source": [
    "## Filtrado colaborativo"
   ]
  },
  {
   "cell_type": "markdown",
   "metadata": {},
   "source": [
    "### Sin plugins"
   ]
  },
  {
   "cell_type": "code",
   "execution_count": 13,
   "metadata": {},
   "outputs": [
    {
     "data": {
      "text/html": [
       "<div>\n",
       "<style scoped>\n",
       "    .dataframe tbody tr th:only-of-type {\n",
       "        vertical-align: middle;\n",
       "    }\n",
       "\n",
       "    .dataframe tbody tr th {\n",
       "        vertical-align: top;\n",
       "    }\n",
       "\n",
       "    .dataframe thead th {\n",
       "        text-align: right;\n",
       "    }\n",
       "</style>\n",
       "<table border=\"1\" class=\"dataframe\">\n",
       "  <thead>\n",
       "    <tr style=\"text-align: right;\">\n",
       "      <th></th>\n",
       "      <th>monster_name</th>\n",
       "      <th>monster_level</th>\n",
       "      <th>monster_exp</th>\n",
       "    </tr>\n",
       "  </thead>\n",
       "  <tbody>\n",
       "    <tr>\n",
       "      <th>0</th>\n",
       "      <td>magmin</td>\n",
       "      <td>1</td>\n",
       "      <td>100</td>\n",
       "    </tr>\n",
       "    <tr>\n",
       "      <th>1</th>\n",
       "      <td>azer</td>\n",
       "      <td>4</td>\n",
       "      <td>450</td>\n",
       "    </tr>\n",
       "    <tr>\n",
       "      <th>2</th>\n",
       "      <td>imp</td>\n",
       "      <td>2</td>\n",
       "      <td>200</td>\n",
       "    </tr>\n",
       "    <tr>\n",
       "      <th>3</th>\n",
       "      <td>succubus</td>\n",
       "      <td>11</td>\n",
       "      <td>1100</td>\n",
       "    </tr>\n",
       "    <tr>\n",
       "      <th>4</th>\n",
       "      <td>earth elemental</td>\n",
       "      <td>18</td>\n",
       "      <td>1800</td>\n",
       "    </tr>\n",
       "    <tr>\n",
       "      <th>5</th>\n",
       "      <td>spined devil</td>\n",
       "      <td>4</td>\n",
       "      <td>450</td>\n",
       "    </tr>\n",
       "    <tr>\n",
       "      <th>6</th>\n",
       "      <td>fire elemental</td>\n",
       "      <td>18</td>\n",
       "      <td>1800</td>\n",
       "    </tr>\n",
       "    <tr>\n",
       "      <th>7</th>\n",
       "      <td>water elemental</td>\n",
       "      <td>18</td>\n",
       "      <td>1800</td>\n",
       "    </tr>\n",
       "    <tr>\n",
       "      <th>8</th>\n",
       "      <td>bearded devil</td>\n",
       "      <td>7</td>\n",
       "      <td>700</td>\n",
       "    </tr>\n",
       "    <tr>\n",
       "      <th>9</th>\n",
       "      <td>mezzoloth</td>\n",
       "      <td>18</td>\n",
       "      <td>1800</td>\n",
       "    </tr>\n",
       "    <tr>\n",
       "      <th>10</th>\n",
       "      <td>quasit</td>\n",
       "      <td>2</td>\n",
       "      <td>200</td>\n",
       "    </tr>\n",
       "    <tr>\n",
       "      <th>11</th>\n",
       "      <td>xorn</td>\n",
       "      <td>18</td>\n",
       "      <td>1800</td>\n",
       "    </tr>\n",
       "    <tr>\n",
       "      <th>12</th>\n",
       "      <td>shadow demon</td>\n",
       "      <td>11</td>\n",
       "      <td>1100</td>\n",
       "    </tr>\n",
       "    <tr>\n",
       "      <th>13</th>\n",
       "      <td>hell hound</td>\n",
       "      <td>7</td>\n",
       "      <td>700</td>\n",
       "    </tr>\n",
       "    <tr>\n",
       "      <th>14</th>\n",
       "      <td>air elemental</td>\n",
       "      <td>18</td>\n",
       "      <td>1800</td>\n",
       "    </tr>\n",
       "    <tr>\n",
       "      <th>15</th>\n",
       "      <td>couatl</td>\n",
       "      <td>11</td>\n",
       "      <td>1100</td>\n",
       "    </tr>\n",
       "    <tr>\n",
       "      <th>16</th>\n",
       "      <td>salamander</td>\n",
       "      <td>18</td>\n",
       "      <td>1800</td>\n",
       "    </tr>\n",
       "    <tr>\n",
       "      <th>17</th>\n",
       "      <td>barlgura</td>\n",
       "      <td>18</td>\n",
       "      <td>1800</td>\n",
       "    </tr>\n",
       "    <tr>\n",
       "      <th>18</th>\n",
       "      <td>cambion</td>\n",
       "      <td>18</td>\n",
       "      <td>1800</td>\n",
       "    </tr>\n",
       "    <tr>\n",
       "      <th>19</th>\n",
       "      <td>vrock</td>\n",
       "      <td>23</td>\n",
       "      <td>2300</td>\n",
       "    </tr>\n",
       "    <tr>\n",
       "      <th>20</th>\n",
       "      <td>red slaad</td>\n",
       "      <td>18</td>\n",
       "      <td>1800</td>\n",
       "    </tr>\n",
       "    <tr>\n",
       "      <th>21</th>\n",
       "      <td>fire snake</td>\n",
       "      <td>2</td>\n",
       "      <td>200</td>\n",
       "    </tr>\n",
       "  </tbody>\n",
       "</table>\n",
       "</div>"
      ],
      "text/plain": [
       "       monster_name  monster_level  monster_exp\n",
       "0            magmin              1          100\n",
       "1              azer              4          450\n",
       "2               imp              2          200\n",
       "3          succubus             11         1100\n",
       "4   earth elemental             18         1800\n",
       "5      spined devil              4          450\n",
       "6    fire elemental             18         1800\n",
       "7   water elemental             18         1800\n",
       "8     bearded devil              7          700\n",
       "9         mezzoloth             18         1800\n",
       "10           quasit              2          200\n",
       "11             xorn             18         1800\n",
       "12     shadow demon             11         1100\n",
       "13       hell hound              7          700\n",
       "14    air elemental             18         1800\n",
       "15           couatl             11         1100\n",
       "16       salamander             18         1800\n",
       "17         barlgura             18         1800\n",
       "18          cambion             18         1800\n",
       "19            vrock             23         2300\n",
       "20        red slaad             18         1800\n",
       "21       fire snake              2          200"
      ]
     },
     "execution_count": 13,
     "metadata": {},
     "output_type": "execute_result"
    }
   ],
   "source": [
    "def get_monster_reccomendations(room_id):\n",
    "    uri = \"bolt://localhost:7687\"\n",
    "    driver = GraphDatabase.driver(uri,  auth=(\"neo4j\", \"BDII2023\"))\n",
    "    with driver.session() as session:\n",
    "        query = '''\n",
    "        MATCH (r:Room {room_id: $room_id})-[:CONTAINS]->(m:Monster)<-[:CONTAINS]-(r2:Room)-[:CONTAINS]->(m2:Monster)\n",
    "        RETURN DISTINCT m2.name as monster_name, m2.level as monster_level, m2.exp as monster_exp\n",
    "        '''\n",
    "        result = session.run(query, room_id=room_id)\n",
    "        data = pd.DataFrame([r.values() for r in result], columns=result.keys())\n",
    "        \n",
    "    return data\n",
    "\n",
    "get_monster_reccomendations(473)"
   ]
  },
  {
   "cell_type": "markdown",
   "metadata": {},
   "source": [
    "### Usando GDS"
   ]
  },
  {
   "cell_type": "code",
   "execution_count": 15,
   "metadata": {},
   "outputs": [
    {
     "name": "stdout",
     "output_type": "stream",
     "text": [
      "GDS version: 2.6.4\n"
     ]
    }
   ],
   "source": [
    "from graphdatascience import GraphDataScience\n",
    "\n",
    "# configure connection\n",
    "\n",
    "print(f\"GDS version: {gds.version()}\")"
   ]
  },
  {
   "cell_type": "code",
   "execution_count": 30,
   "metadata": {},
   "outputs": [
    {
     "data": {
      "text/html": [
       "<div>\n",
       "<style scoped>\n",
       "    .dataframe tbody tr th:only-of-type {\n",
       "        vertical-align: middle;\n",
       "    }\n",
       "\n",
       "    .dataframe tbody tr th {\n",
       "        vertical-align: top;\n",
       "    }\n",
       "\n",
       "    .dataframe thead th {\n",
       "        text-align: right;\n",
       "    }\n",
       "</style>\n",
       "<table border=\"1\" class=\"dataframe\">\n",
       "  <thead>\n",
       "    <tr style=\"text-align: right;\">\n",
       "      <th></th>\n",
       "      <th>monster</th>\n",
       "      <th>score</th>\n",
       "    </tr>\n",
       "  </thead>\n",
       "  <tbody>\n",
       "    <tr>\n",
       "      <th>0</th>\n",
       "      <td>chuul</td>\n",
       "      <td>2190.0</td>\n",
       "    </tr>\n",
       "    <tr>\n",
       "      <th>1</th>\n",
       "      <td>driad</td>\n",
       "      <td>2016.0</td>\n",
       "    </tr>\n",
       "    <tr>\n",
       "      <th>2</th>\n",
       "      <td>sea hag</td>\n",
       "      <td>1992.0</td>\n",
       "    </tr>\n",
       "    <tr>\n",
       "      <th>3</th>\n",
       "      <td>wererat</td>\n",
       "      <td>1230.0</td>\n",
       "    </tr>\n",
       "    <tr>\n",
       "      <th>4</th>\n",
       "      <td>gargoyle</td>\n",
       "      <td>1218.0</td>\n",
       "    </tr>\n",
       "  </tbody>\n",
       "</table>\n",
       "</div>"
      ],
      "text/plain": [
       "    monster   score\n",
       "0     chuul  2190.0\n",
       "1     driad  2016.0\n",
       "2   sea hag  1992.0\n",
       "3   wererat  1230.0\n",
       "4  gargoyle  1218.0"
      ]
     },
     "execution_count": 30,
     "metadata": {},
     "output_type": "execute_result"
    }
   ],
   "source": [
    "from graphdatascience import GraphDataScience\n",
    "\n",
    "def get_top5_monster_recommendations(room_id):\n",
    "    gds = GraphDataScience(\"neo4j://localhost:7687\", auth=(\"neo4j\", \"BDII2023\"))\n",
    "    \n",
    "    query = \"\"\"\n",
    "    MATCH (r:Room {room_id: $id}) WITH r\n",
    "    MATCH (m:Monster) WHERE not (r)-[:CONTAINS]->(m)\n",
    "    RETURN m.name as monster, gds.alpha.linkprediction.preferentialAttachment(r, m, {relationshipQuery: \"CONTAINS\"}) AS score\n",
    "    ORDER BY score DESC LIMIT 5\n",
    "    \"\"\"\n",
    "    result = gds.run_cypher(query, {\"id\": room_id})\n",
    "    return result\n",
    "\n",
    "\n",
    "\n",
    "get_top5_monster_recommendations(473)"
   ]
  },
  {
   "cell_type": "code",
   "execution_count": null,
   "metadata": {},
   "outputs": [],
   "source": []
  }
 ],
 "metadata": {
  "kernelspec": {
   "display_name": "deep-cuda",
   "language": "python",
   "name": "python3"
  },
  "language_info": {
   "codemirror_mode": {
    "name": "ipython",
    "version": 3
   },
   "file_extension": ".py",
   "mimetype": "text/x-python",
   "name": "python",
   "nbconvert_exporter": "python",
   "pygments_lexer": "ipython3",
   "version": "3.9.18"
  }
 },
 "nbformat": 4,
 "nbformat_minor": 2
}
