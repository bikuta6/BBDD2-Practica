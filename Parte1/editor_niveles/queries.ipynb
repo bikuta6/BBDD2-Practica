{
 "cells": [
  {
   "cell_type": "markdown",
   "metadata": {},
   "source": [
    "### 1."
   ]
  },
  {
   "cell_type": "code",
   "execution_count": 36,
   "metadata": {},
   "outputs": [
    {
     "data": {
      "text/html": [
       "<div>\n",
       "<style scoped>\n",
       "    .dataframe tbody tr th:only-of-type {\n",
       "        vertical-align: middle;\n",
       "    }\n",
       "\n",
       "    .dataframe tbody tr th {\n",
       "        vertical-align: top;\n",
       "    }\n",
       "\n",
       "    .dataframe thead th {\n",
       "        text-align: right;\n",
       "    }\n",
       "</style>\n",
       "<table border=\"1\" class=\"dataframe\">\n",
       "  <thead>\n",
       "    <tr style=\"text-align: right;\">\n",
       "      <th></th>\n",
       "      <th>gold</th>\n",
       "    </tr>\n",
       "  </thead>\n",
       "  <tbody>\n",
       "    <tr>\n",
       "      <th>0</th>\n",
       "      <td>1227.0</td>\n",
       "    </tr>\n",
       "  </tbody>\n",
       "</table>\n",
       "</div>"
      ],
      "text/plain": [
       "     gold\n",
       "0  1227.0"
      ]
     },
     "execution_count": 36,
     "metadata": {},
     "output_type": "execute_result"
    }
   ],
   "source": [
    "from neo4j import GraphDatabase\n",
    "import pandas as pd\n",
    "\n",
    "def get_dungeon_gold(dungeon_name):\n",
    "    uri = \"bolt://localhost:7687\"\n",
    "    driver = GraphDatabase.driver(uri,  auth=(\"neo4j\", \"BDII2023\"))\n",
    "    with driver.session() as session:\n",
    "        query = '''\n",
    "        MATCH (:Area)-[i:IS_CONNECTED]->(startRoom:Room)\n",
    "        MATCH (:Area)<-[i2:IS_CONNECTED]-(:Room)\n",
    "        WHERE i.dungeon_name = $dungeon_name AND i2.dungeon_name = $dungeon_name\n",
    "        CALL apoc.path.subgraphNodes(startRoom, {\n",
    "            relationshipFilter: \"IS_CONNECTED\",\n",
    "            labelFilter: \"Room\"\n",
    "        }) YIELD node\n",
    "        MATCH (node)-[:CONTAINS]->(l:Loot)\n",
    "        RETURN sum(l.gold) as gold\n",
    "\n",
    "        '''\n",
    "        result = session.run(query, dungeon_name=dungeon_name)\n",
    "        data = pd.DataFrame([r.values() for r in result], columns=result.keys())\n",
    "        \n",
    "    return data\n",
    "\n",
    "get_dungeon_gold('Fenglass, Sepulcher of the Terrible Emperors')"
   ]
  },
  {
   "cell_type": "markdown",
   "metadata": {},
   "source": [
    "### 2."
   ]
  },
  {
   "cell_type": "code",
   "execution_count": 37,
   "metadata": {},
   "outputs": [
    {
     "data": {
      "text/html": [
       "<div>\n",
       "<style scoped>\n",
       "    .dataframe tbody tr th:only-of-type {\n",
       "        vertical-align: middle;\n",
       "    }\n",
       "\n",
       "    .dataframe tbody tr th {\n",
       "        vertical-align: top;\n",
       "    }\n",
       "\n",
       "    .dataframe thead th {\n",
       "        text-align: right;\n",
       "    }\n",
       "</style>\n",
       "<table border=\"1\" class=\"dataframe\">\n",
       "  <thead>\n",
       "    <tr style=\"text-align: right;\">\n",
       "      <th></th>\n",
       "      <th>average_level</th>\n",
       "    </tr>\n",
       "  </thead>\n",
       "  <tbody>\n",
       "    <tr>\n",
       "      <th>0</th>\n",
       "      <td>8.366972</td>\n",
       "    </tr>\n",
       "  </tbody>\n",
       "</table>\n",
       "</div>"
      ],
      "text/plain": [
       "   average_level\n",
       "0       8.366972"
      ]
     },
     "execution_count": 37,
     "metadata": {},
     "output_type": "execute_result"
    }
   ],
   "source": [
    "def get_mean_monster_lvl(dungeon_name):\n",
    "    uri = \"bolt://localhost:7687\"\n",
    "    driver = GraphDatabase.driver(uri,  auth=(\"neo4j\", \"BDII2023\"))\n",
    "    with driver.session() as session:\n",
    "        query = '''\n",
    "        MATCH (:Area)-[i:IS_CONNECTED]->(startRoom:Room)\n",
    "        MATCH (:Area)<-[i2:IS_CONNECTED]-(:Room)\n",
    "        WHERE i.dungeon_name = $dungeon_name AND i2.dungeon_name = $dungeon_name\n",
    "        CALL apoc.path.subgraphNodes(startRoom, {\n",
    "            relationshipFilter: \"IS_CONNECTED\",\n",
    "            labelFilter: \"Room\"\n",
    "        }) YIELD node\n",
    "        MATCH (node)-[:CONTAINS]->(m:Monster)\n",
    "        RETURN avg(m.level) as average_level\n",
    "\n",
    "        '''\n",
    "        result = session.run(query, dungeon_name=dungeon_name)\n",
    "        data = pd.DataFrame([r.values() for r in result], columns=result.keys())\n",
    "        \n",
    "    return data\n",
    "\n",
    "get_mean_monster_lvl('Fenglass, Sepulcher of the Terrible Emperors')"
   ]
  },
  {
   "cell_type": "markdown",
   "metadata": {},
   "source": [
    "### 3."
   ]
  },
  {
   "cell_type": "code",
   "execution_count": 43,
   "metadata": {},
   "outputs": [
    {
     "data": {
      "text/plain": [
       "4.31858407079646"
      ]
     },
     "execution_count": 43,
     "metadata": {},
     "output_type": "execute_result"
    }
   ],
   "source": [
    "def get_mean_relationships_in_dungeon(dungeon_name):\n",
    "    uri = \"bolt://localhost:7687\"\n",
    "    driver = GraphDatabase.driver(uri,  auth=(\"neo4j\", \"BDII2023\"))\n",
    "    with driver.session() as session:\n",
    "        query = '''\n",
    "        MATCH (:Area)-[i:IS_CONNECTED]->(startRoom:Room)\n",
    "        MATCH (:Area)<-[i2:IS_CONNECTED]-(:Room)\n",
    "        WHERE i.dungeon_name = $dungeon_name AND i2.dungeon_name = $dungeon_name\n",
    "        CALL apoc.path.subgraphNodes(startRoom, {\n",
    "            relationshipFilter: \"IS_CONNECTED\",\n",
    "            labelFilter: \"Room\"\n",
    "        }) YIELD node\n",
    "        MATCH (node)-[r:IS_CONNECTED]-(:Room)\n",
    "        RETURN node.room_id as id , count(r) as number_of_relationships\n",
    "        '''\n",
    "        result = session.run(query, dungeon_name=dungeon_name)\n",
    "        data = pd.DataFrame([r.values() for r in result], columns=result.keys())\n",
    "        avg = data['number_of_relationships'].mean()\n",
    "        # make a groupby to count the number of relationships and get the mean\n",
    "\n",
    "        \n",
    "    return avg\n",
    "\n",
    "get_mean_relationships_in_dungeon('Fenglass, Sepulcher of the Terrible Emperors')"
   ]
  },
  {
   "cell_type": "markdown",
   "metadata": {},
   "source": [
    "### 4."
   ]
  },
  {
   "cell_type": "code",
   "execution_count": 49,
   "metadata": {},
   "outputs": [
    {
     "data": {
      "text/plain": [
       "monster_name             fire giant\n",
       "max_level                        50\n",
       "room_id                         289\n",
       "room_name       magnificent cellar \n",
       "Name: 24, dtype: object"
      ]
     },
     "execution_count": 49,
     "metadata": {},
     "output_type": "execute_result"
    }
   ],
   "source": [
    "def get_max_monster_lvl(dungeon_name):\n",
    "    uri = \"bolt://localhost:7687\"\n",
    "    driver = GraphDatabase.driver(uri,  auth=(\"neo4j\", \"BDII2023\"))\n",
    "    with driver.session() as session:\n",
    "        query = '''\n",
    "        MATCH (:Area)-[i:IS_CONNECTED]->(startRoom:Room)\n",
    "        MATCH (:Area)<-[i2:IS_CONNECTED]-(:Room)\n",
    "        WHERE i.dungeon_name = $dungeon_name AND i2.dungeon_name = $dungeon_name\n",
    "        CALL apoc.path.subgraphNodes(startRoom, {\n",
    "            relationshipFilter: \"IS_CONNECTED\",\n",
    "            labelFilter: \"Room\"\n",
    "        }) YIELD node\n",
    "        MATCH (node)-[:CONTAINS]->(m:Monster)\n",
    "        RETURN m.name as monster_name, max(m.level) as max_level, node.room_id as room_id, node.room_name as room_name\n",
    "\n",
    "        '''\n",
    "        result = session.run(query, dungeon_name=dungeon_name)\n",
    "        data = pd.DataFrame([r.values() for r in result], columns=result.keys())\n",
    "        max_level_row = data.loc[data['max_level'].idxmax()]\n",
    "        \n",
    "    return max_level_row\n",
    "\n",
    "get_max_monster_lvl('Fenglass, Sepulcher of the Terrible Emperors')"
   ]
  },
  {
   "cell_type": "markdown",
   "metadata": {},
   "source": [
    "### 5."
   ]
  },
  {
   "cell_type": "code",
   "execution_count": 56,
   "metadata": {},
   "outputs": [
    {
     "data": {
      "text/html": [
       "<div>\n",
       "<style scoped>\n",
       "    .dataframe tbody tr th:only-of-type {\n",
       "        vertical-align: middle;\n",
       "    }\n",
       "\n",
       "    .dataframe tbody tr th {\n",
       "        vertical-align: top;\n",
       "    }\n",
       "\n",
       "    .dataframe thead th {\n",
       "        text-align: right;\n",
       "    }\n",
       "</style>\n",
       "<table border=\"1\" class=\"dataframe\">\n",
       "  <thead>\n",
       "    <tr style=\"text-align: right;\">\n",
       "      <th></th>\n",
       "      <th>room_id</th>\n",
       "      <th>room_name</th>\n",
       "      <th>total_exp</th>\n",
       "    </tr>\n",
       "  </thead>\n",
       "  <tbody>\n",
       "    <tr>\n",
       "      <th>0</th>\n",
       "      <td>289</td>\n",
       "      <td>magnificent cellar</td>\n",
       "      <td>5000</td>\n",
       "    </tr>\n",
       "    <tr>\n",
       "      <th>1</th>\n",
       "      <td>287</td>\n",
       "      <td>chapel</td>\n",
       "      <td>4600</td>\n",
       "    </tr>\n",
       "    <tr>\n",
       "      <th>2</th>\n",
       "      <td>321</td>\n",
       "      <td>fancy vault of sumo wrestlers</td>\n",
       "      <td>4600</td>\n",
       "    </tr>\n",
       "    <tr>\n",
       "      <th>3</th>\n",
       "      <td>320</td>\n",
       "      <td>jolly washroom</td>\n",
       "      <td>4000</td>\n",
       "    </tr>\n",
       "    <tr>\n",
       "      <th>4</th>\n",
       "      <td>477</td>\n",
       "      <td>wine cellar</td>\n",
       "      <td>3600</td>\n",
       "    </tr>\n",
       "  </tbody>\n",
       "</table>\n",
       "</div>"
      ],
      "text/plain": [
       "   room_id                      room_name  total_exp\n",
       "0      289            magnificent cellar        5000\n",
       "1      287                        chapel        4600\n",
       "2      321  fancy vault of sumo wrestlers       4600\n",
       "3      320                jolly washroom        4000\n",
       "4      477                   wine cellar        3600"
      ]
     },
     "execution_count": 56,
     "metadata": {},
     "output_type": "execute_result"
    }
   ],
   "source": [
    "def get_exp_per_room(dungeon_name):\n",
    "    uri = \"bolt://localhost:7687\"\n",
    "    driver = GraphDatabase.driver(uri,  auth=(\"neo4j\", \"BDII2023\"))\n",
    "    with driver.session() as session:\n",
    "        query = '''\n",
    "        MATCH (:Area)-[i:IS_CONNECTED]->(startRoom:Room)\n",
    "        MATCH (:Area)<-[i2:IS_CONNECTED]-(:Room)\n",
    "        WHERE i.dungeon_name = $dungeon_name AND i2.dungeon_name = $dungeon_name\n",
    "        CALL apoc.path.subgraphNodes(startRoom, {\n",
    "            relationshipFilter: \"IS_CONNECTED\",\n",
    "            labelFilter: \"Room\"\n",
    "        }) YIELD node\n",
    "        MATCH (node)-[:CONTAINS]->(m:Monster)\n",
    "        RETURN node.room_id as room_id, node.room_name as room_name, sum(m.exp) as total_exp\n",
    "\n",
    "        '''\n",
    "        result = session.run(query, dungeon_name=dungeon_name)\n",
    "        data = pd.DataFrame([r.values() for r in result], columns=result.keys())\n",
    "        # sort by total_exp\n",
    "        data = data.sort_values(by='total_exp', ascending=False)\n",
    "        data.reset_index(drop=True, inplace=True)\n",
    "        \n",
    "    return data\n",
    "\n",
    "get_exp_per_room('Fenglass, Sepulcher of the Terrible Emperors').head()"
   ]
  },
  {
   "cell_type": "markdown",
   "metadata": {},
   "source": [
    "### 6."
   ]
  },
  {
   "cell_type": "code",
   "execution_count": 59,
   "metadata": {},
   "outputs": [
    {
     "data": {
      "text/plain": [
       "room_id                      289\n",
       "room_name    magnificent cellar \n",
       "Name: 0, dtype: object"
      ]
     },
     "execution_count": 59,
     "metadata": {},
     "output_type": "execute_result"
    }
   ],
   "source": [
    "def most_exp_room(dungeon_name):\n",
    "    room = get_exp_per_room(dungeon_name=dungeon_name).iloc[0][['room_id', 'room_name']]\n",
    "    return room\n",
    "\n",
    "most_exp_room('Fenglass, Sepulcher of the Terrible Emperors')"
   ]
  }
 ],
 "metadata": {
  "kernelspec": {
   "display_name": "deep-cuda",
   "language": "python",
   "name": "python3"
  },
  "language_info": {
   "codemirror_mode": {
    "name": "ipython",
    "version": 3
   },
   "file_extension": ".py",
   "mimetype": "text/x-python",
   "name": "python",
   "nbconvert_exporter": "python",
   "pygments_lexer": "ipython3",
   "version": "3.9.18"
  }
 },
 "nbformat": 4,
 "nbformat_minor": 2
}
