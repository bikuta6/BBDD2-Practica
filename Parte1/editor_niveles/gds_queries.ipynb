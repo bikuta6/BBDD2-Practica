{
 "cells": [
  {
   "cell_type": "code",
   "execution_count": null,
   "metadata": {},
   "outputs": [],
   "source": [
    "!pip install neo4j\n",
    "!pip install networkx\n",
    "!pip install graphdatascience"
   ]
  },
  {
   "cell_type": "markdown",
   "metadata": {},
   "source": [
    "# Graph Data Science"
   ]
  },
  {
   "cell_type": "markdown",
   "metadata": {},
   "source": [
    "## Configure connection"
   ]
  },
  {
   "cell_type": "code",
   "execution_count": null,
   "metadata": {},
   "outputs": [],
   "source": [
    "from graphdatascience import GraphDataScience\n",
    "\n",
    "# configure connection\n",
    "gds = GraphDataScience(\"neo4j://localhost:7687\", auth=(\"neo4j\", \"BDII2023\"))\n",
    "print(f\"GDS version: {gds.version()}\")"
   ]
  },
  {
   "cell_type": "markdown",
   "metadata": {},
   "source": [
    "## Link prediction\n",
    "Can be executed without a projection"
   ]
  },
  {
   "cell_type": "code",
   "execution_count": null,
   "metadata": {},
   "outputs": [],
   "source": [
    "query = \"\"\"\n",
    "MATCH (u:User {id: $name}) WITH u\n",
    "MATCH (b:Beer) WHERE not (u)-[:LIKED]->(b)\n",
    "RETURN b.name as beer, gds.alpha.linkprediction.preferentialAttachment(u, b, {relationshipQuery: \"LIKED\"}) AS score\n",
    "ORDER BY score DESC LIMIT 10\n",
    "\"\"\"\n",
    "\n",
    "df_recommendation = gds.run_cypher(query, params={\"name\": \"Gyle41386\"})\n",
    "df_recommendation"
   ]
  },
  {
   "cell_type": "markdown",
   "metadata": {},
   "source": [
    "## Pagerank on beer projection"
   ]
  },
  {
   "cell_type": "markdown",
   "metadata": {},
   "source": [
    "### Cypher query"
   ]
  },
  {
   "cell_type": "code",
   "execution_count": null,
   "metadata": {},
   "outputs": [],
   "source": [
    "\"\"\"\n",
    "CALL gds.graph.project.cypher(\n",
    "    \"coliked_beers_cypher\",\n",
    "    \"MATCH (b1:Beer)<-[:LIKED]-(u:User)-[:LIKED]->(b2:Beer) WITH b1, b2, count(DISTINCT u) as liked WHERE liked > 3 RETURN DISTINCT id(b1) as id\",\n",
    "    \"MATCH (b1:Beer)<-[:LIKED]-(u:User)-[:LIKED]->(b2:Beer) WITH b1, b2, count(distinct u) as liked WHERE liked > 3 RETURN id(b1) as source, id(b2) as target, (liked - 3) as weight\"\n",
    ")\n",
    "\"\"\"\n",
    "\"\"\"\n",
    "MATCH (:User {id: $name})-[:LIKED]->(b:Beer) \n",
    "WITH collect(id(b)) as sources\n",
    "CALL gds.pageRank.stream(\n",
    "    \"coliked_beers_cypher\",\n",
    "    {\n",
    "        sourceNodes: sources, \n",
    "        relationshipWeightProperty: \"weight\"\n",
    "    }\n",
    ") YIELD nodeId, score WHERE score > 0 AND NOT(nodeId IN sources)\n",
    "RETURN gds.util.asNode(nodeId).name, score\n",
    "ORDER BY score DESC LIMIT 10\n",
    "\"\"\""
   ]
  },
  {
   "cell_type": "markdown",
   "metadata": {},
   "source": [
    "### GDS Python client"
   ]
  },
  {
   "cell_type": "code",
   "execution_count": null,
   "metadata": {},
   "outputs": [],
   "source": [
    "node_query = \"\"\"\n",
    "    MATCH (b1:Beer)<-[:LIKED]-(u:User)-[:LIKED]->(b2:Beer) \n",
    "    WITH b1, b2, count(DISTINCT u) as liked WHERE liked > 3 \n",
    "    RETURN DISTINCT id(b1) as id\n",
    "\"\"\"\n",
    "edge_query = \"\"\"\n",
    "    MATCH (b1:Beer)<-[:LIKED]-(u:User)-[:LIKED]->(b2:Beer) \n",
    "    WITH b1, b2, count(distinct u) as liked WHERE liked > 3 \n",
    "    RETURN id(b1) as source, id(b2) as target, (liked - 3) as weight\n",
    "\"\"\"\n",
    "\n",
    "with gds.graph.project.cypher(\"coliked_beers_temp\", node_query, edge_query) as g_temp:\n",
    "    q_source = \"\"\"\n",
    "        MATCH (:User {id: $name})-[:LIKED]->(b:Beer) RETURN collect(id(b)) as sources\n",
    "    \"\"\"\n",
    "    sources = gds.run_cypher(q_source,params={\"name\": \"Gyle41386\"}).sources[0]\n",
    "    result = gds.pageRank.stream(g_temp, sourceNodes=sources, relationshipWeightProperty=\"weight\")\n",
    "    result = result.query(\"score > 0\")"
   ]
  },
  {
   "cell_type": "code",
   "execution_count": null,
   "metadata": {},
   "outputs": [],
   "source": [
    "nodes = result.nodeId.to_list()\n",
    "q = \"\"\"\n",
    "MATCH (:User {id: $name})-[:LIKED]->(b:Beer) WITH collect(b) as sources\n",
    "MATCH (b:Beer) WHERE id(b) IN $nodes AND not(b in sources)\n",
    "RETURN id(b) AS nodeId, b.name AS beer\n",
    "\"\"\"\n",
    "df = gds.run_cypher(q, params={\"name\": \"Gyle41386\",\"nodes\": nodes})\n",
    "\n",
    "result.join(df.set_index(\"nodeId\"), on=\"nodeId\").dropna().sort_values(\"score\", ascending=False).head(10)"
   ]
  },
  {
   "cell_type": "markdown",
   "metadata": {},
   "source": [
    "## Jaccard similarity on beer projection"
   ]
  },
  {
   "cell_type": "markdown",
   "metadata": {},
   "source": [
    "### Cypher query"
   ]
  },
  {
   "cell_type": "code",
   "execution_count": null,
   "metadata": {},
   "outputs": [],
   "source": [
    "\"\"\"\n",
    "MATCH (:User {id: $name})-[:LIKED]->(b:Beer) \n",
    "WITH collect(id(b)) as sources\n",
    "CALL gds.nodeSimilarity.filtered.stream(\n",
    "  'coliked_beers_cypher', \n",
    "  {\n",
    "    sourceNodeFilter:sources,\n",
    "    similarityMetric: 'JACCARD', \n",
    "    topK:10\n",
    "  }\n",
    ")\n",
    "YIELD node1, node2, similarity WHERE similarity > 0 AND NOT(node2 IN sources)\n",
    "WITH node2, max(similarity) as similarity\n",
    "RETURN gds.util.asNode(node2).name, similarity\n",
    "ORDER BY similarity DESC LIMIT 10\n",
    "\"\"\""
   ]
  },
  {
   "cell_type": "markdown",
   "metadata": {},
   "source": [
    "### GDS Python client"
   ]
  },
  {
   "cell_type": "code",
   "execution_count": null,
   "metadata": {},
   "outputs": [],
   "source": [
    "node_query = \"\"\"\n",
    "    MATCH (b1:Beer)<-[:LIKED]-(u:User)-[:LIKED]->(b2:Beer) \n",
    "    WITH b1, b2, count(DISTINCT u) as liked WHERE liked > 3 \n",
    "    RETURN DISTINCT id(b1) as id\n",
    "\"\"\"\n",
    "edge_query = \"\"\"\n",
    "    MATCH (b1:Beer)<-[:LIKED]-(u:User)-[:LIKED]->(b2:Beer) \n",
    "    WITH b1, b2, count(distinct u) as liked WHERE liked > 3 \n",
    "    RETURN id(b1) as source, id(b2) as target, (liked - 3) as weight\n",
    "\"\"\"\n",
    "\n",
    "with gds.graph.project.cypher(\"coliked_beers_temp\", node_query, edge_query) as g_temp:\n",
    "    q_source = \"\"\"\n",
    "        MATCH (:User {id: $name})-[:LIKED]->(b:Beer) RETURN collect(id(b)) as sources\n",
    "    \"\"\"\n",
    "    sources = gds.run_cypher(q_source,params={\"name\": \"Gyle41386\"}).sources[0]\n",
    "    result = gds.nodeSimilarity.filtered.stream(g_temp, sourceNodeFilter=sources, similarityMetric=\"JACCARD\", topK=10)\n",
    "    result = result.query(\"similarity > 0\")\n",
    "    result = result.groupby(\"node2\").similarity.max().reset_index().rename(columns={\"node2\": \"nodeId\", \"similarity\": \"score\"})"
   ]
  },
  {
   "cell_type": "code",
   "execution_count": null,
   "metadata": {},
   "outputs": [],
   "source": [
    "nodes = result.nodeId.to_list()\n",
    "q = \"\"\"\n",
    "MATCH (:User {id: $name})-[:LIKED]->(b:Beer) WITH collect(b) as sources\n",
    "MATCH (b:Beer) WHERE id(b) IN $nodes AND not(b in sources)\n",
    "RETURN id(b) AS nodeId, b.name AS beer\n",
    "\"\"\"\n",
    "df = gds.run_cypher(q, params={\"name\": \"Gyle41386\",\"nodes\": nodes})\n",
    "\n",
    "result.join(df.set_index(\"nodeId\"), on=\"nodeId\").dropna().sort_values(\"score\", ascending=False).head(10)"
   ]
  },
  {
   "cell_type": "markdown",
   "metadata": {},
   "source": [
    "## Communities in beer projection"
   ]
  },
  {
   "cell_type": "markdown",
   "metadata": {},
   "source": [
    "### Create links"
   ]
  },
  {
   "cell_type": "code",
   "execution_count": null,
   "metadata": {},
   "outputs": [],
   "source": [
    "q = \"\"\"\n",
    "    MATCH (b1:Beer)<-[:LIKED]-(u:User)-[:LIKED]->(b2:Beer) \n",
    "    WITH b1, b2, count(distinct u) as liked WHERE liked > 3 \n",
    "    MERGE (b1)-[:COLIKED {weight: liked - 3}]-(b2)\n",
    "\"\"\"\n",
    "gds.run_cypher(q)"
   ]
  },
  {
   "cell_type": "markdown",
   "metadata": {},
   "source": [
    "### Calculate communities"
   ]
  },
  {
   "cell_type": "code",
   "execution_count": null,
   "metadata": {},
   "outputs": [],
   "source": [
    "with gds.graph.project(\"coliked_beers_temp\", \"Beer\", {\"COLIKED\": {\"orientation\": \"UNDIRECTED\", \"properties\": \"weight\"}}) as g_temp:\n",
    "    results = gds.leiden.stats(g_temp, relationshipWeightProperty=\"weight\")\n",
    "    print(results)\n",
    "    gds.leiden.write(g_temp, relationshipWeightProperty=\"weight\", writeProperty=\"leiden_cid\")"
   ]
  },
  {
   "cell_type": "markdown",
   "metadata": {},
   "source": [
    "### Clean spurios communities"
   ]
  },
  {
   "cell_type": "code",
   "execution_count": null,
   "metadata": {},
   "outputs": [],
   "source": [
    "q = \"\"\"\n",
    "MATCH (b:Beer) WITH b.leiden_cid AS leiden_cid, count(*) AS count WHERE count > 1\n",
    "WITH collect(leiden_cid) as leiden_cids\n",
    "MATCH (b:Beer) WHERE NOT(b.leiden_cid IN leiden_cids)\n",
    "SET b.leiden_cid = -1\n",
    "\"\"\"\n",
    "gds.run_cypher(q)"
   ]
  },
  {
   "cell_type": "markdown",
   "metadata": {},
   "source": [
    "### Recommend beer on the same community"
   ]
  },
  {
   "cell_type": "code",
   "execution_count": null,
   "metadata": {},
   "outputs": [],
   "source": [
    "query = \"\"\"\n",
    "MATCH (:User {id: $name})-[:LIKED]->(b1:Beer) \n",
    "WITH collect(b1) as source\n",
    "MATCH (b2:Beer) WHERE not(b2 in source) AND b2.leiden_cid >= 0\n",
    "UNWIND source AS b1\n",
    "WITH b2, gds.alpha.linkprediction.sameCommunity(b1, b2, \"leiden_cid\") AS score WHERE score > 0\n",
    "RETURN DISTINCT b2.name as beer\n",
    "\"\"\"\n",
    "gds.run_cypher(query, params={\"name\": \"Gyle41386\"})"
   ]
  },
  {
   "cell_type": "markdown",
   "metadata": {},
   "source": [
    "## Embeddings in beer projection"
   ]
  },
  {
   "cell_type": "markdown",
   "metadata": {},
   "source": [
    "### Cypher query"
   ]
  },
  {
   "cell_type": "code",
   "execution_count": null,
   "metadata": {},
   "outputs": [],
   "source": [
    "\"\"\"\n",
    "CALL gds.graph.project(\n",
    "    \"coliked_beers_attributes\",\n",
    "    {Beer: {properties: [\"style_embedding\"]}},\n",
    "    {COLIKED: {orientation: \"UNDIRECTED\", properties: \"weight\"}}\n",
    ")\n",
    "\"\"\"\n",
    "\"\"\"\n",
    "CALL gds.node2vec.mutate(\n",
    "'coliked_beers_attributes',\n",
    "{\n",
    "  embeddingDimension: 64,\n",
    "  relationshipWeightProperty: \"weight\",\n",
    "  mutateProperty: 'node2vec_embedding'\n",
    "})\n",
    "YIELD nodePropertiesWritten\n",
    "\"\"\"\n",
    "\"\"\"\n",
    "CALL gds.fastRP.mutate(\n",
    "'coliked_beers_attributes',\n",
    "{\n",
    "  embeddingDimension: 64,\n",
    "  propertyRatio: 0.31,\n",
    "  featureProperties: ['style_embedding'],\n",
    "  relationshipWeightProperty: 'weight',\n",
    "  mutateProperty: 'fastrp_embedding'\n",
    "})\n",
    "YIELD nodePropertiesWritten\n",
    "\"\"\"\n",
    "\"\"\"\n",
    "MATCH (u:User {id: $name})-[:LIKED]->(b:Beer) WITH collect(b) as sources\n",
    "CALL gds.knn.filtered.stream('coliked_beers_attributes', {\n",
    "  topK: 10,\n",
    "  nodeProperties: {fastrp_embedding:'COSINE'},\n",
    "  sourceNodeFilter: sources\n",
    "})\n",
    "YIELD node1, node2, similarity WHERE similarity > 0 AND NOT(node2 IN sources)\n",
    "WITH node2, max(similarity) as similarity\n",
    "RETURN gds.util.asNode(node2).name, similarity\n",
    "ORDER BY similarity DESC LIMIT 10\n",
    "\"\"\""
   ]
  },
  {
   "cell_type": "markdown",
   "metadata": {},
   "source": [
    "### GDS Python client"
   ]
  },
  {
   "cell_type": "code",
   "execution_count": null,
   "metadata": {},
   "outputs": [],
   "source": [
    "projection_name = \"coliked_beers_attributes\"\n",
    "\n",
    "if gds.graph.exists(projection_name)[\"exists\"]:\n",
    "    g_projection = gds.graph.get(projection_name)\n",
    "else:\n",
    "    g_projection, result = gds.graph.project(\n",
    "        projection_name, \n",
    "        {\"Beer\": {\"properties\": [\"style_embedding\"]}}, \n",
    "        {\"COLIKED\": {\"orientation\": \"UNDIRECTED\", \"properties\": \"weight\"}}\n",
    "    )\n",
    "    print(f\"Projection created:\\n {result}\")\n",
    "    gds.node2vec.mutate(g_projection, embeddingDimension=64, relationshipWeightProperty=\"weight\", mutateProperty=\"node2vec_embedding\")\n",
    "    gds.fastRP.mutate(g_projection, embeddingDimension=64, propertyRatio=0.31, featureProperties=[\"style_embedding\"], relationshipWeightProperty=\"weight\", mutateProperty=\"fastrp_embedding\")"
   ]
  },
  {
   "cell_type": "code",
   "execution_count": null,
   "metadata": {},
   "outputs": [],
   "source": [
    "q_source = \"\"\"\n",
    "    MATCH (:User {id: $name})-[:LIKED]->(b:Beer) RETURN collect(id(b)) as sources\n",
    "\"\"\"\n",
    "sources = gds.run_cypher(q_source,params={\"name\": \"Gyle41386\"}).sources[0]\n",
    "result = gds.knn.filtered.stream(g_projection, topK=10, nodeProperties={\"node2vec_embedding\": \"EUCLIDEAN\"}, sourceNodeFilter=sources)\n",
    "result = result.query(\"similarity > 0\")\n",
    "result = result.groupby(\"node2\").similarity.max().reset_index().rename(columns={\"node2\": \"nodeId\", \"similarity\": \"score\"})\n",
    "\n",
    "nodes = result.nodeId.to_list()\n",
    "q = \"\"\"\n",
    "MATCH (:User {id: $name})-[:LIKED]->(b:Beer) WITH collect(b) as sources\n",
    "MATCH (b:Beer) WHERE id(b) IN $nodes AND not(b in sources)\n",
    "RETURN id(b) AS nodeId, b.name AS beer\n",
    "\"\"\"\n",
    "df = gds.run_cypher(q, params={\"name\": \"Gyle41386\",\"nodes\": nodes})\n",
    "\n",
    "result.join(df.set_index(\"nodeId\"), on=\"nodeId\").dropna().sort_values(\"score\", ascending=False).head(10)"
   ]
  }
 ],
 "metadata": {
  "kernelspec": {
   "display_name": "jupyter-basic",
   "language": "python",
   "name": "python3"
  },
  "language_info": {
   "codemirror_mode": {
    "name": "ipython",
    "version": 3
   },
   "file_extension": ".py",
   "mimetype": "text/x-python",
   "name": "python",
   "nbconvert_exporter": "python",
   "pygments_lexer": "ipython3",
   "version": "3.10.11"
  }
 },
 "nbformat": 4,
 "nbformat_minor": 2
}
