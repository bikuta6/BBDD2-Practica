{
 "cells": [
  {
   "cell_type": "code",
   "execution_count": 1,
   "id": "e363a7c5-6a2a-4dc3-becc-caea74ac5360",
   "metadata": {},
   "outputs": [
    {
     "name": "stdout",
     "output_type": "stream",
     "text": [
      "Collecting cassandra-driver\n",
      "  Downloading cassandra_driver-3.29.1-cp311-cp311-manylinux_2_17_x86_64.manylinux2014_x86_64.whl.metadata (5.9 kB)\n",
      "Collecting geomet<0.3,>=0.1 (from cassandra-driver)\n",
      "  Downloading geomet-0.2.1.post1-py3-none-any.whl.metadata (1.0 kB)\n",
      "Requirement already satisfied: click in /opt/conda/lib/python3.11/site-packages (from geomet<0.3,>=0.1->cassandra-driver) (8.1.7)\n",
      "Requirement already satisfied: six in /opt/conda/lib/python3.11/site-packages (from geomet<0.3,>=0.1->cassandra-driver) (1.16.0)\n",
      "Downloading cassandra_driver-3.29.1-cp311-cp311-manylinux_2_17_x86_64.manylinux2014_x86_64.whl (20.1 MB)\n",
      "\u001b[2K   \u001b[90m━━━━━━━━━━━━━━━━━━━━━━━━━━━━━━━━━━━━━━━━\u001b[0m \u001b[32m20.1/20.1 MB\u001b[0m \u001b[31m26.1 MB/s\u001b[0m eta \u001b[36m0:00:00\u001b[0m00:01\u001b[0m00:01\u001b[0m\n",
      "\u001b[?25hDownloading geomet-0.2.1.post1-py3-none-any.whl (18 kB)\n",
      "Installing collected packages: geomet, cassandra-driver\n",
      "Successfully installed cassandra-driver-3.29.1 geomet-0.2.1.post1\n"
     ]
    }
   ],
   "source": [
    "!pip install cassandra-driver"
   ]
  },
  {
   "cell_type": "code",
   "execution_count": 20,
   "id": "f60c4995-d7d8-49bc-b2cf-da016bf23e00",
   "metadata": {},
   "outputs": [],
   "source": [
    "from cassandra.cluster import Cluster\n",
    "cluster = Cluster(['node1'], port = 9042)"
   ]
  },
  {
   "cell_type": "code",
   "execution_count": 21,
   "id": "ea7aad9d-0bed-4992-8819-4df0782518c9",
   "metadata": {},
   "outputs": [],
   "source": [
    "session = cluster.connect()"
   ]
  },
  {
   "cell_type": "markdown",
   "id": "91cc8011-087c-4dbd-9f35-e30bb189ea7d",
   "metadata": {},
   "source": [
    "## Table Creation"
   ]
  },
  {
   "cell_type": "code",
   "execution_count": 22,
   "id": "45486315-2233-4893-8253-3364139d4022",
   "metadata": {},
   "outputs": [
    {
     "data": {
      "text/plain": [
       "<cassandra.cluster.ResultSet at 0x7f852c549310>"
      ]
     },
     "execution_count": 22,
     "metadata": {},
     "output_type": "execute_result"
    }
   ],
   "source": [
    "# Create Keyspace\n",
    "session.execute(\"\"\"\n",
    "      CREATE KEYSPACE IF NOT EXISTS dungeons WITH replication = {'class': 'SimpleStrategy', 'replication_factor': 2};\n",
    "\"\"\")"
   ]
  },
  {
   "cell_type": "code",
   "execution_count": 23,
   "id": "363b5294-a38b-4cff-8ad1-b3e2db79a70f",
   "metadata": {},
   "outputs": [
    {
     "data": {
      "text/plain": [
       "{'system_auth': <cassandra.metadata.KeyspaceMetadata at 0x7f852940d610>,\n",
       " 'system_schema': <cassandra.metadata.KeyspaceMetadata at 0x7f8529443390>,\n",
       " 'dungeons': <cassandra.metadata.KeyspaceMetadata at 0x7f8528b64a90>,\n",
       " 'bbdd2': <cassandra.metadata.KeyspaceMetadata at 0x7f8528b64c90>,\n",
       " 'system_distributed': <cassandra.metadata.KeyspaceMetadata at 0x7f8528b652d0>,\n",
       " 'system': <cassandra.metadata.KeyspaceMetadata at 0x7f8528b66d10>,\n",
       " 'system_traces': <cassandra.metadata.KeyspaceMetadata at 0x7f8528b72f90>,\n",
       " 'system_views': <cassandra.metadata.KeyspaceMetadata at 0x7f8528b73e50>,\n",
       " 'system_virtual_schema': <cassandra.metadata.KeyspaceMetadata at 0x7f8528b78050>}"
      ]
     },
     "execution_count": 23,
     "metadata": {},
     "output_type": "execute_result"
    }
   ],
   "source": [
    "cluster.metadata.keyspaces"
   ]
  },
  {
   "cell_type": "code",
   "execution_count": 29,
   "id": "f23aff64-46cb-483b-808b-69967ec071c9",
   "metadata": {},
   "outputs": [],
   "source": [
    "session.set_keyspace(\"dungeons\")"
   ]
  },
  {
   "cell_type": "code",
   "execution_count": 34,
   "id": "4cc5b0ec-e5bb-4e19-888b-e70b6430a0f7",
   "metadata": {},
   "outputs": [
    {
     "name": "stdout",
     "output_type": "stream",
     "text": [
      "[Row(keyspace_name='dungeons', type='table', name='top_horde')]\n"
     ]
    }
   ],
   "source": [
    "print([e for e in session.execute('''DESCRIBE TABLES;''')])"
   ]
  },
  {
   "cell_type": "code",
   "execution_count": 31,
   "id": "a00ca589-854f-4cbb-9efb-b257e398560f",
   "metadata": {},
   "outputs": [
    {
     "data": {
      "text/plain": [
       "<cassandra.cluster.ResultSet at 0x7f85294ba350>"
      ]
     },
     "execution_count": 31,
     "metadata": {},
     "output_type": "execute_result"
    }
   ],
   "source": [
    "session.execute('''CREATE TABLE top_horde (\n",
    "    country text,\n",
    "    event_id int,\n",
    "    email text,\n",
    "    user_name text,\n",
    "    monster_id int,\n",
    "    PRIMARY KEY ((country, event_id), email)\n",
    ");''')"
   ]
  },
  {
   "cell_type": "code",
   "execution_count": 33,
   "id": "6314d080-97ba-46e8-b446-5cbbe37ede08",
   "metadata": {},
   "outputs": [
    {
     "ename": "SyntaxException",
     "evalue": "<Error from server: code=2000 [Syntax error in CQL query] message=\"line 1:0 no viable alternative at input 'COPY' ([COPY]...)\">",
     "output_type": "error",
     "traceback": [
      "\u001b[0;31m---------------------------------------------------------------------------\u001b[0m",
      "\u001b[0;31mSyntaxException\u001b[0m                           Traceback (most recent call last)",
      "Cell \u001b[0;32mIn[33], line 1\u001b[0m\n\u001b[0;32m----> 1\u001b[0m \u001b[43msession\u001b[49m\u001b[38;5;241;43m.\u001b[39;49m\u001b[43mexecute\u001b[49m\u001b[43m(\u001b[49m\u001b[38;5;124;43m'''\u001b[39;49m\u001b[38;5;124;43mCOPY top_horde (country, event_id, email, user_name, monster_id) FROM \u001b[39;49m\u001b[38;5;124;43m'\u001b[39;49m\u001b[38;5;124;43mkill_event.csv\u001b[39;49m\u001b[38;5;124;43m'\u001b[39;49m\u001b[38;5;124;43m WITH HEADER = TRUE;\u001b[39;49m\u001b[38;5;124;43m'''\u001b[39;49m\u001b[43m)\u001b[49m\n",
      "File \u001b[0;32m/opt/conda/lib/python3.11/site-packages/cassandra/cluster.py:2677\u001b[0m, in \u001b[0;36mcassandra.cluster.Session.execute\u001b[0;34m()\u001b[0m\n",
      "File \u001b[0;32m/opt/conda/lib/python3.11/site-packages/cassandra/cluster.py:4956\u001b[0m, in \u001b[0;36mcassandra.cluster.ResponseFuture.result\u001b[0;34m()\u001b[0m\n",
      "\u001b[0;31mSyntaxException\u001b[0m: <Error from server: code=2000 [Syntax error in CQL query] message=\"line 1:0 no viable alternative at input 'COPY' ([COPY]...)\">"
     ]
    }
   ],
   "source": [
    "session.execute('''COPY top_horde (country, event_id, email, user_name, monster_id) FROM 'kill_event.csv' WITH HEADER = TRUE;''')"
   ]
  },
  {
   "cell_type": "code",
   "execution_count": 16,
   "id": "7d24eb12-8aab-4117-b3d4-2e9d1a5ec8f0",
   "metadata": {},
   "outputs": [
    {
     "data": {
      "text/plain": [
       "<cassandra.cluster.ResultSet at 0x7f852c4e9e50>"
      ]
     },
     "execution_count": 16,
     "metadata": {},
     "output_type": "execute_result"
    }
   ],
   "source": [
    "session.execute('''DROP TABLE top_horde;''')"
   ]
  },
  {
   "cell_type": "markdown",
   "id": "6c0768af-b3d8-40c9-a9b6-85504621249b",
   "metadata": {},
   "source": [
    "## Data Insertion"
   ]
  },
  {
   "cell_type": "code",
   "execution_count": 30,
   "id": "ef68132d-6560-45cc-861c-6b4c0dc952e6",
   "metadata": {},
   "outputs": [
    {
     "ename": "KeyboardInterrupt",
     "evalue": "",
     "output_type": "error",
     "traceback": [
      "\u001b[0;31m---------------------------------------------------------------------------\u001b[0m",
      "\u001b[0;31mKeyboardInterrupt\u001b[0m                         Traceback (most recent call last)",
      "Cell \u001b[0;32mIn[30], line 28\u001b[0m\n\u001b[1;32m     22\u001b[0m \u001b[38;5;66;03m# Prepare and execute update for user_kills_counter\u001b[39;00m\n\u001b[1;32m     23\u001b[0m \u001b[38;5;66;03m# Since counter updates cannot be batched, we execute them directly\u001b[39;00m\n\u001b[1;32m     24\u001b[0m update_query \u001b[38;5;241m=\u001b[39m \u001b[38;5;124m\"\"\"\u001b[39m\n\u001b[1;32m     25\u001b[0m \u001b[38;5;124mUPDATE user_kills_counter SET kills = kills + 1\u001b[39m\n\u001b[1;32m     26\u001b[0m \u001b[38;5;124mWHERE country = \u001b[39m\u001b[38;5;132;01m%s\u001b[39;00m\u001b[38;5;124m AND event_id = \u001b[39m\u001b[38;5;132;01m%s\u001b[39;00m\u001b[38;5;124m AND email = \u001b[39m\u001b[38;5;132;01m%s\u001b[39;00m\n\u001b[1;32m     27\u001b[0m \u001b[38;5;124m\u001b[39m\u001b[38;5;124m\"\"\"\u001b[39m\n\u001b[0;32m---> 28\u001b[0m \u001b[43msession\u001b[49m\u001b[38;5;241;43m.\u001b[39;49m\u001b[43mexecute\u001b[49m\u001b[43m(\u001b[49m\u001b[43mupdate_query\u001b[49m\u001b[43m,\u001b[49m\u001b[43m \u001b[49m\u001b[43m(\u001b[49m\u001b[43mcountry\u001b[49m\u001b[43m,\u001b[49m\u001b[43m \u001b[49m\u001b[43mevent_id\u001b[49m\u001b[43m,\u001b[49m\u001b[43m \u001b[49m\u001b[43memail\u001b[49m\u001b[43m)\u001b[49m\u001b[43m)\u001b[49m\n",
      "File \u001b[0;32m/opt/conda/lib/python3.11/site-packages/cassandra/cluster.py:2677\u001b[0m, in \u001b[0;36mcassandra.cluster.Session.execute\u001b[0;34m()\u001b[0m\n",
      "File \u001b[0;32m/opt/conda/lib/python3.11/site-packages/cassandra/cluster.py:4952\u001b[0m, in \u001b[0;36mcassandra.cluster.ResponseFuture.result\u001b[0;34m()\u001b[0m\n",
      "File \u001b[0;32m/opt/conda/lib/python3.11/threading.py:629\u001b[0m, in \u001b[0;36mEvent.wait\u001b[0;34m(self, timeout)\u001b[0m\n\u001b[1;32m    627\u001b[0m signaled \u001b[38;5;241m=\u001b[39m \u001b[38;5;28mself\u001b[39m\u001b[38;5;241m.\u001b[39m_flag\n\u001b[1;32m    628\u001b[0m \u001b[38;5;28;01mif\u001b[39;00m \u001b[38;5;129;01mnot\u001b[39;00m signaled:\n\u001b[0;32m--> 629\u001b[0m     signaled \u001b[38;5;241m=\u001b[39m \u001b[38;5;28;43mself\u001b[39;49m\u001b[38;5;241;43m.\u001b[39;49m\u001b[43m_cond\u001b[49m\u001b[38;5;241;43m.\u001b[39;49m\u001b[43mwait\u001b[49m\u001b[43m(\u001b[49m\u001b[43mtimeout\u001b[49m\u001b[43m)\u001b[49m\n\u001b[1;32m    630\u001b[0m \u001b[38;5;28;01mreturn\u001b[39;00m signaled\n",
      "File \u001b[0;32m/opt/conda/lib/python3.11/threading.py:327\u001b[0m, in \u001b[0;36mCondition.wait\u001b[0;34m(self, timeout)\u001b[0m\n\u001b[1;32m    325\u001b[0m \u001b[38;5;28;01mtry\u001b[39;00m:    \u001b[38;5;66;03m# restore state no matter what (e.g., KeyboardInterrupt)\u001b[39;00m\n\u001b[1;32m    326\u001b[0m     \u001b[38;5;28;01mif\u001b[39;00m timeout \u001b[38;5;129;01mis\u001b[39;00m \u001b[38;5;28;01mNone\u001b[39;00m:\n\u001b[0;32m--> 327\u001b[0m         \u001b[43mwaiter\u001b[49m\u001b[38;5;241;43m.\u001b[39;49m\u001b[43macquire\u001b[49m\u001b[43m(\u001b[49m\u001b[43m)\u001b[49m\n\u001b[1;32m    328\u001b[0m         gotit \u001b[38;5;241m=\u001b[39m \u001b[38;5;28;01mTrue\u001b[39;00m\n\u001b[1;32m    329\u001b[0m     \u001b[38;5;28;01melse\u001b[39;00m:\n",
      "\u001b[0;31mKeyboardInterrupt\u001b[0m: "
     ]
    }
   ],
   "source": [
    "import csv\n",
    "from cassandra.cluster import Cluster\n",
    "from cassandra.query import BatchStatement\n",
    "\n",
    "with open('kill_event.csv', 'r') as csvfile:\n",
    "    reader = csv.DictReader(csvfile)  # Using DictReader for easy access by column header\n",
    "\n",
    "    for row in reader:\n",
    "        country = row['country']\n",
    "        event_id = int(row['event_id'])\n",
    "        email = row['email']\n",
    "        user_name = row['user_name']\n",
    "        monster_id = int(row['monster_id'])\n",
    "\n",
    "        # Insert into user_monster_kills\n",
    "        insert_query = \"\"\"\n",
    "        INSERT INTO user_monster_kills (country, event_id, email, user_name, monster_id)\n",
    "        VALUES (%s, %s, %s, %s, %s)\n",
    "        \"\"\"\n",
    "        session.execute(insert_query, (country, event_id, email, user_name, monster_id))\n",
    "        \n",
    "        # Prepare and execute update for user_kills_counter\n",
    "        # Since counter updates cannot be batched, we execute them directly\n",
    "        update_query = \"\"\"\n",
    "        UPDATE user_kills_counter SET kills = kills + 1\n",
    "        WHERE country = %s AND event_id = %s AND email = %s\n",
    "        \"\"\"\n",
    "        session.execute(update_query, (country, event_id, email))\n"
   ]
  },
  {
   "cell_type": "markdown",
   "id": "0f2bd3dd-4972-4282-a8f1-ff122b34226d",
   "metadata": {},
   "source": [
    "## Test the query"
   ]
  },
  {
   "cell_type": "code",
   "execution_count": 31,
   "id": "6e949fec-b657-43f5-bc65-407f17ba519b",
   "metadata": {},
   "outputs": [
    {
     "name": "stdout",
     "output_type": "stream",
     "text": [
      "Top 3 users with most kills: []\n"
     ]
    }
   ],
   "source": [
    "\n",
    "\n",
    "def get_top_k_users(country, event_id, K):\n",
    "\n",
    "    # Query to select users based on country and event_id\n",
    "    query = \"\"\"\n",
    "    SELECT email, kills FROM user_kills_counter\n",
    "    WHERE country = %s AND event_id = %s\n",
    "    \"\"\"\n",
    "    # Execute the query\n",
    "    rows = session.execute(query, (country, event_id))\n",
    "\n",
    "    # Convert rows to a list of dicts\n",
    "    data = [{'email': row.email, 'kills': row.kills} for row in rows]\n",
    "\n",
    "    # Sort the data by 'kills' in descending order and select top K\n",
    "    top_k_users = sorted(data, key=lambda x: x['kills'], reverse=True)[:K]\n",
    "\n",
    "    return top_k_users\n",
    "\n",
    "# Example usage\n",
    "country = 'de_DE'\n",
    "event_id = 10\n",
    "K = 3\n",
    "top_k_users = get_top_k_users(country, event_id, K)\n",
    "print(\"Top\", K, \"users with most kills:\", top_k_users)\n"
   ]
  },
  {
   "cell_type": "code",
   "execution_count": 44,
   "id": "9283a6a9-44b4-42ee-a283-2f02d31e3722",
   "metadata": {},
   "outputs": [],
   "source": [
    "rows = session.execute('''SELECT country, event_id, email, user_name, COUNT(*) FROM top_horde \n",
    "GROUP BY country, event_id, email;''')"
   ]
  },
  {
   "cell_type": "code",
   "execution_count": 45,
   "id": "53f07d59-75ce-437b-90cd-11ce8c2e2c46",
   "metadata": {},
   "outputs": [
    {
     "data": {
      "text/plain": [
       "{1}"
      ]
     },
     "execution_count": 45,
     "metadata": {},
     "output_type": "execute_result"
    }
   ],
   "source": [
    "data = set(([row.count for row in rows]))\n",
    "data"
   ]
  },
  {
   "cell_type": "code",
   "execution_count": null,
   "id": "46e321fe-a98e-439a-aea6-05adacf2ce30",
   "metadata": {},
   "outputs": [],
   "source": []
  }
 ],
 "metadata": {
  "kernelspec": {
   "display_name": "Python 3 (ipykernel)",
   "language": "python",
   "name": "python3"
  },
  "language_info": {
   "codemirror_mode": {
    "name": "ipython",
    "version": 3
   },
   "file_extension": ".py",
   "mimetype": "text/x-python",
   "name": "python",
   "nbconvert_exporter": "python",
   "pygments_lexer": "ipython3",
   "version": "3.11.6"
  }
 },
 "nbformat": 4,
 "nbformat_minor": 5
}
