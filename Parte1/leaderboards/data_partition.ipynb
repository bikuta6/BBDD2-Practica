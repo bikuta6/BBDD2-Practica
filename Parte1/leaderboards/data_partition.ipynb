{
 "cells": [
  {
   "cell_type": "code",
   "execution_count": 3,
   "metadata": {},
   "outputs": [
    {
     "name": "stdout",
     "output_type": "stream",
     "text": [
      "file 0 created\n",
      "file 0 has 500000 rows\n",
      "file 0 has 54.88 MB\n",
      "\n",
      "file 1 created\n",
      "file 1 has 500000 rows\n",
      "file 1 has 54.58 MB\n",
      "\n",
      "file 2 created\n",
      "file 2 has 500000 rows\n",
      "file 2 has 56.90 MB\n",
      "\n",
      "file 3 created\n",
      "file 3 has 500000 rows\n",
      "file 3 has 54.73 MB\n",
      "\n"
     ]
    }
   ],
   "source": [
    "# load a csv of 2_000_000 rows and split it into 4 files of 500_000 rows each\n",
    "import pandas as pd\n",
    "import os\n",
    "\n",
    "# load the csv\n",
    "df = pd.read_csv('dungeon_completion.csv', header=None)\n",
    "\n",
    "\n",
    "# split the csv into 4 files\n",
    "for i in range(4):\n",
    "    start = i * 500_000\n",
    "    end = (i + 1) * 500_000\n",
    "    df[start:end].to_csv(f'dungeon_completion_{i}.csv', header=False, index=False)\n",
    "    print(f'file {i} created')\n",
    "    print(f'file {i} has {end - start} rows')\n",
    "    print(f'file {i} has {os.path.getsize(f\"dungeon_completion_{i}.csv\") / 1_000_000:.2f} MB')\n",
    "    print()"
   ]
  },
  {
   "cell_type": "code",
   "execution_count": null,
   "metadata": {},
   "outputs": [],
   "source": []
  }
 ],
 "metadata": {
  "kernelspec": {
   "display_name": "Python 3",
   "language": "python",
   "name": "python3"
  },
  "language_info": {
   "codemirror_mode": {
    "name": "ipython",
    "version": 3
   },
   "file_extension": ".py",
   "mimetype": "text/x-python",
   "name": "python",
   "nbconvert_exporter": "python",
   "pygments_lexer": "ipython3",
   "version": "3.9.6"
  }
 },
 "nbformat": 4,
 "nbformat_minor": 2
}
